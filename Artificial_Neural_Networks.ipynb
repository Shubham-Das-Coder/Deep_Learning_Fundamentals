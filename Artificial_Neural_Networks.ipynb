{
  "nbformat": 4,
  "nbformat_minor": 0,
  "metadata": {
    "colab": {
      "name": "Artificial_Neural_Networks.ipynb",
      "provenance": [],
      "collapsed_sections": [],
      "authorship_tag": "ABX9TyMAa83pMYaWRfTOyp6wRpjY",
      "include_colab_link": true
    },
    "kernelspec": {
      "name": "python3",
      "display_name": "Python 3"
    },
    "language_info": {
      "name": "python"
    }
  },
  "cells": [
    {
      "cell_type": "markdown",
      "metadata": {
        "id": "view-in-github",
        "colab_type": "text"
      },
      "source": [
        "<a href=\"https://colab.research.google.com/github/Shubham-Das-Coder/Deep_Learning_Fundamentals/blob/main/Artificial_Neural_Networks.ipynb\" target=\"_parent\"><img src=\"https://colab.research.google.com/assets/colab-badge.svg\" alt=\"Open In Colab\"/></a>"
      ]
    },
    {
      "cell_type": "markdown",
      "metadata": {
        "id": "KMnzyZMao83b"
      },
      "source": [
        "*KERAS SEQUENTIAL MODEL*"
      ]
    },
    {
      "cell_type": "code",
      "metadata": {
        "id": "tyaII4S2opOG"
      },
      "source": [
        "from keras.models import Sequential\n",
        "from keras.layers import Dense,Activation\n",
        "\n",
        "#Dense is the most basic type of layer that a neural network connects each input to each output in the layer\n",
        "model=Sequential([\n",
        "                  Dense(32,input_shape=(10,),activation='relu'),\n",
        "                  Dense(2,activation='softmax'), \n",
        "])\n",
        "#32 is the number of nodes or neurons within the layer\n",
        "#10 is the shape of the data passing to the data\n",
        "#Activation is a non-linear function that follows a dense layer "
      ],
      "execution_count": 1,
      "outputs": []
    },
    {
      "cell_type": "code",
      "metadata": {
        "id": "997OaOGps-lu"
      },
      "source": [
        ""
      ],
      "execution_count": null,
      "outputs": []
    }
  ]
}